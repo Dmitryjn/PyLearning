{
 "cells": [
  {
   "cell_type": "code",
   "execution_count": 1,
   "id": "1a6da75e-21dc-4f07-9bc5-876fa63053a5",
   "metadata": {},
   "outputs": [],
   "source": [
    "salary = 34000"
   ]
  },
  {
   "cell_type": "code",
   "execution_count": 3,
   "id": "66342b07-a29b-4eb8-8640-41eecaee18d6",
   "metadata": {},
   "outputs": [
    {
     "data": {
      "text/plain": [
       "34000"
      ]
     },
     "execution_count": 3,
     "metadata": {},
     "output_type": "execute_result"
    }
   ],
   "source": [
    "salary"
   ]
  },
  {
   "cell_type": "code",
   "execution_count": 4,
   "id": "a0bb8c3f-f77c-4e9f-9995-bdf18a7467bd",
   "metadata": {},
   "outputs": [],
   "source": [
    "house_rent = 10000\n",
    "food_rent = 5000"
   ]
  },
  {
   "cell_type": "code",
   "execution_count": 5,
   "id": "518aec14-7a35-4c2d-8c3c-368a9148890c",
   "metadata": {},
   "outputs": [
    {
     "data": {
      "text/plain": [
       "15000"
      ]
     },
     "execution_count": 5,
     "metadata": {},
     "output_type": "execute_result"
    }
   ],
   "source": [
    "total_expense = house_rent + food_rent\n",
    "total_expense"
   ]
  },
  {
   "cell_type": "code",
   "execution_count": 6,
   "id": "4e8f2427-9789-4017-9651-f9e89e5be497",
   "metadata": {},
   "outputs": [
    {
     "data": {
      "text/plain": [
       "19000"
      ]
     },
     "execution_count": 6,
     "metadata": {},
     "output_type": "execute_result"
    }
   ],
   "source": [
    "savings = salary - total_expense\n",
    "savings"
   ]
  },
  {
   "cell_type": "code",
   "execution_count": 7,
   "id": "a31726dd-4eb7-43b0-873a-9c9486a9bc97",
   "metadata": {},
   "outputs": [
    {
     "name": "stdout",
     "output_type": "stream",
     "text": [
      "My savings in a year is: 19000\n"
     ]
    }
   ],
   "source": [
    "print (\"My savings in a year is:\", savings)"
   ]
  },
  {
   "cell_type": "code",
   "execution_count": null,
   "id": "ab6dff4b-ae50-4d77-a05f-fe554a15459d",
   "metadata": {},
   "outputs": [],
   "source": []
  }
 ],
 "metadata": {
  "kernelspec": {
   "display_name": "Python 3 (ipykernel)",
   "language": "python",
   "name": "python3"
  },
  "language_info": {
   "codemirror_mode": {
    "name": "ipython",
    "version": 3
   },
   "file_extension": ".py",
   "mimetype": "text/x-python",
   "name": "python",
   "nbconvert_exporter": "python",
   "pygments_lexer": "ipython3",
   "version": "3.11.7"
  }
 },
 "nbformat": 4,
 "nbformat_minor": 5
}
