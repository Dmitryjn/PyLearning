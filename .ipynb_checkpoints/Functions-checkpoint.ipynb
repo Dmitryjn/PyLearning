{
 "cells": [
  {
   "cell_type": "code",
   "execution_count": 1,
   "id": "ad633d0d-3371-4892-9378-3f47a6ddcb4a",
   "metadata": {},
   "outputs": [
    {
     "data": {
      "text/plain": [
       "'Hello world'"
      ]
     },
     "execution_count": 1,
     "metadata": {},
     "output_type": "execute_result"
    }
   ],
   "source": [
    "\"Hello world!\""
   ]
  },
  {
   "cell_type": "code",
   "execution_count": 2,
   "id": "1991689f-7a31-473a-bab6-2cd9a6e718f0",
   "metadata": {},
   "outputs": [
    {
     "name": "stdout",
     "output_type": "stream",
     "text": [
      "Hello Oliber!\n"
     ]
    }
   ],
   "source": [
    "print(\"Hello Oliber!\")"
   ]
  },
  {
   "cell_type": "code",
   "execution_count": 3,
   "id": "680907a0-4729-4ad3-a895-333029189ceb",
   "metadata": {},
   "outputs": [
    {
     "name": "stdout",
     "output_type": "stream",
     "text": [
      "Hello Oliber!\n"
     ]
    }
   ],
   "source": [
    "print('Hello Oliber!')"
   ]
  },
  {
   "cell_type": "code",
   "execution_count": 4,
   "id": "55dd7782-2367-4dc9-b057-770904defbab",
   "metadata": {},
   "outputs": [
    {
     "name": "stdout",
     "output_type": "stream",
     "text": [
      "7\n"
     ]
    }
   ],
   "source": [
    "print (5+2)"
   ]
  },
  {
   "cell_type": "code",
   "execution_count": null,
   "id": "fbb012dc-9a9f-48cf-8c70-97d576f3ef39",
   "metadata": {},
   "outputs": [],
   "source": []
  }
 ],
 "metadata": {
  "kernelspec": {
   "display_name": "Python 3 (ipykernel)",
   "language": "python",
   "name": "python3"
  },
  "language_info": {
   "codemirror_mode": {
    "name": "ipython",
    "version": 3
   },
   "file_extension": ".py",
   "mimetype": "text/x-python",
   "name": "python",
   "nbconvert_exporter": "python",
   "pygments_lexer": "ipython3",
   "version": "3.11.7"
  }
 },
 "nbformat": 4,
 "nbformat_minor": 5
}
