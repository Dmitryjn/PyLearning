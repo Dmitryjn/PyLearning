{
 "cells": [
  {
   "cell_type": "code",
   "execution_count": 2,
   "id": "5a46a414-f18d-4dd5-be82-4a719acca3f9",
   "metadata": {},
   "outputs": [
    {
     "data": {
      "text/plain": [
       "16"
      ]
     },
     "execution_count": 2,
     "metadata": {},
     "output_type": "execute_result"
    }
   ],
   "source": [
    "7 + 9"
   ]
  },
  {
   "cell_type": "code",
   "execution_count": 1,
   "id": "211bb01a-c517-42b5-98f3-3be4934c07af",
   "metadata": {},
   "outputs": [
    {
     "data": {
      "text/plain": [
       "34.1"
      ]
     },
     "execution_count": 1,
     "metadata": {},
     "output_type": "execute_result"
    }
   ],
   "source": [
    "27.3+6.8"
   ]
  },
  {
   "cell_type": "code",
   "execution_count": null,
   "id": "dba285ac-efcd-4825-860b-5c1960acfbb7",
   "metadata": {},
   "outputs": [],
   "source": []
  },
  {
   "cell_type": "code",
   "execution_count": null,
   "id": "84d8787b-fe87-489b-86da-9a3d894ccfe6",
   "metadata": {},
   "outputs": [],
   "source": []
  },
  {
   "cell_type": "code",
   "execution_count": null,
   "id": "95120dde-7d3d-4180-a64a-5c5dc1852ff4",
   "metadata": {},
   "outputs": [],
   "source": []
  },
  {
   "cell_type": "code",
   "execution_count": null,
   "id": "8a823814-49c7-4467-9682-5c13187a85c6",
   "metadata": {},
   "outputs": [],
   "source": []
  }
 ],
 "metadata": {
  "kernelspec": {
   "display_name": "Python 3 (ipykernel)",
   "language": "python",
   "name": "python3"
  },
  "language_info": {
   "codemirror_mode": {
    "name": "ipython",
    "version": 3
   },
   "file_extension": ".py",
   "mimetype": "text/x-python",
   "name": "python",
   "nbconvert_exporter": "python",
   "pygments_lexer": "ipython3",
   "version": "3.11.7"
  }
 },
 "nbformat": 4,
 "nbformat_minor": 5
}
